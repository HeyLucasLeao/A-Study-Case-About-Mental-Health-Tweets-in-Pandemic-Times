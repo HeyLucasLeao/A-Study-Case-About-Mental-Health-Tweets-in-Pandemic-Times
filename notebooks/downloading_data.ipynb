{
 "metadata": {
  "language_info": {
   "codemirror_mode": {
    "name": "ipython",
    "version": 3
   },
   "file_extension": ".py",
   "mimetype": "text/x-python",
   "name": "python",
   "nbconvert_exporter": "python",
   "pygments_lexer": "ipython3",
   "version": "3.6.13"
  },
  "orig_nbformat": 2,
  "kernelspec": {
   "name": "python3613jvsc74a57bd0ccbe1d209069a6934c6baf0d50ddbcb072d245e139d3821e0ac48cf43eca06e5",
   "display_name": "Python 3.6.13 64-bit ('twint': conda)"
  }
 },
 "nbformat": 4,
 "nbformat_minor": 2,
 "cells": [
  {
   "cell_type": "code",
   "execution_count": 2,
   "metadata": {},
   "outputs": [],
   "source": [
    "import twint\n",
    "import nest_asyncio\n",
    "nest_asyncio.apply()"
   ]
  },
  {
   "cell_type": "code",
   "execution_count": 5,
   "metadata": {},
   "outputs": [],
   "source": [
    "c = twint.Config()\n",
    "c.Lowercase = True\n",
    "c.Store_csv = True\n",
    "c.Filter_retweets = True\n",
    "c.Lang = \"pt\"\n",
    "c.Search = \"#facaterapia\"\n",
    "c.Since = \"2014-03-02\"\n",
    "c.Links = 'exclude'\n",
    "c.Output = r'C:\\Users\\heylu\\Documents\\github\\Sentimental Analysis -  A Study Case About Mental Health in Pandemic Times\\data\\raw\\facaterapia.csv' "
   ]
  },
  {
   "cell_type": "code",
   "execution_count": 6,
   "metadata": {
    "tags": [
     "outputPrepend"
    ]
   },
   "outputs": [
    {
     "output_type": "stream",
     "name": "stdout",
     "text": [
      "tização e discussão desse tema de saúde pública. #SetembroAmarelo  https://t.co/9aZK61MsrS\n",
      "1305618589207146497 2020-09-14 17:25:03 -0400 <sahviolin> Eu nao consigo expressar o quão importante é esse vídeo. Quantos nós perdemos pra depressão, suicídio, e gente fica sem entender, pq o músico com fama, dinheiro e sucesso tira sua vida.  Especial #SetembroAmarelo te peço atenção pro que eu falo aqui.   https://t.co/2b2eYu1LhQ\n",
      "1305618128794259457 2020-09-14 17:23:13 -0400 <KalelPessanha> #SetembroAmarelo\n",
      "1305618080807223296 2020-09-14 17:23:02 -0400 <Carol_Camboim> #SetembroAmarelo #JuntosPelaVida  https://t.co/Rdnq2TksPU\n",
      "1305617508494462977 2020-09-14 17:20:45 -0400 <cremesp_crm> #SetembroAmareloCremesp  Durante o mês de setembro, a sede do Cremesp vai ficar amarela durante a noite, para conscientizar a população sobre o suicídio, em alusão à campanha #SetembroAmarelo. Saiba mais em  https://t.co/yMq69iGnMU  https://t.co/yhZwqn4DNk\n",
      "1305617355528179712 2020-09-14 17:20:09 -0400 <telessaudese> Nova pílula do conhecimento traz o tema “SETEMBRO VERDE: Doação de órgão”. . Quer saber mais sobre o assunto, vai lá no nosso site (link na bio) e veja esse conteúdo e muitos outros. . Marque aquele colega que precisa ver essa postagem. . #setembroamarelo #doacaodeorgaos  https://t.co/vrxhW3yXbp\n",
      "1305617331977097216 2020-09-14 17:20:03 -0400 <jfemcristo> Vagas limitadas, portanto se inscreva e compartilhe com seus amigos!  Atenção:  Somente os inscrições: - Receberão o link da live. - Participarão do momento de perguntas e respostas Deus abençoe em nome de Jesus!  INSCRIÇÃO:  https://t.co/B2NQtKH8iv @EPrevencao #setembroamarelo\n",
      "1305616814794313728 2020-09-14 17:18:00 -0400 <this_is_tais> @tiamaoficial 1o de setembro eu comentei sobre a hipocrisia do #SetembroAmarelo .. seletivo ele né? To contigo Maíra! Vc é uma inspiração\n",
      "1305616695210446854 2020-09-14 17:17:31 -0400 <LucasTheAlves0> Não desista da vida, ainda há uma saída   #Jesus #SetembroAmarelo #vida  https://t.co/GiSsAygR6f\n",
      "1305616269530587137 2020-09-14 17:15:50 -0400 <lgbt_pt_br> #SetembroAmarelo Não basta só conversar! ASSISTA  https://t.co/Fuzi9Gbhb4 e compartilhe!  Siga o @FabricioViana  #saudemental #psicologia #youtube #youtubebrasil #depressao #FiqueEmCasa #pandemia #tristeza #solidão #sofrimento #prevençãoaosuicídio #lgbtqemcasa #saudepublica  https://t.co/q3W8Hn5irr\n",
      "1305615247919771649 2020-09-14 17:11:46 -0400 <danielfonfer> @mariei_ ligue para o 166 #SetembroAmarelo\n",
      "1305614751834267649 2020-09-14 17:09:48 -0400 <Douglas_snake> 14/09/2020 Setores da #B3 listados por volume #TI #Petróleo #Serviços #Saúde  https://t.co/58oLR8W7ZH #montanha #mercadofinanceiro #bolsadevalores #planejamento #psicologia #gain #amor #dinheiro #ficaemcasa #gold #brentoil #dolar #china #japao #europa #emprego #SetembroAmarelo  https://t.co/kq5hmPJT2F\n",
      "1305614263063642114 2020-09-14 17:07:52 -0400 <lennaborges> 4/10 10 coisas pra não dizer sobre Depressão  #SetembroAmarelo  https://t.co/4WiCL5TO72\n",
      "1305613898393976832 2020-09-14 17:06:25 -0400 <esmpsp> Busque ajuda! Falar é essencial para prevenir.  #FiqueEmCasa #SetembroAmarelo #PrevençãosoSuicídio #CVV188 #FalarPodeMudarTudo  https://t.co/0lUON0PZv4\n",
      "1305613554851164162 2020-09-14 17:05:03 -0400 <adrmeconhecer> A pior versão de mulher que você já foi, era apenas alguém que que precisava se sentir #amada por quem é. Levanta a cabeça e segue em frente, só por hoje  #adoreimeconhecer #saudemental #saudeemocional #setembroamarelo\n",
      "1305613219696787456 2020-09-14 17:03:43 -0400 <marcelofrancojp> Logo, logo...   #setembroamarelo  #suicideprevention  #suicidio #brasil  #medo  #mundo #depressão em Brazil  https://t.co/VRb70EpkbM\n",
      "1305612977148755976 2020-09-14 17:02:45 -0400 <Gabizaoao> O estudo de hoje fala sobre as \"guerras\" que enfrentamos na vida...A solução para vencer cada uma delas tem nome!É só clicar no link abaixo e me ajudar a compartilhar esse carinho pro coração🧡  https://t.co/7Ke1YKgMBj #blog #Deus #Biblia #SetembroAmarelo #força #Jesus #amor #Paz\n",
      "1305612964859449346 2020-09-14 17:02:42 -0400 <rcrleaodonorte> Momento de muita emoção que o projeto ABRAÇO SOLIDÁRIO, pode proporcionar para os alunos e professores da Escola Analine.   #rotaryclubrecifeleaodonorte #setembroamarelo #rotary #distrito4500 #recife #mesdaeducacaobasica #pernambuco #rotaryresponds #junteseanos #rotaryemação  https://t.co/eqI9Ut6ng5\n",
      "1305612960702910468 2020-09-14 17:02:41 -0400 <drapatriciaregi> Você tem que achar o seu lugar no mundo, vocês é especial e único 😍 #felicidade #amese #psicologia  #aterapia #yellowseptember #setembroamarelotododia #setembroamarelo #motivosparaviver #filhoseternos #simavida  #drapatriciaregina  https://t.co/bM1HY5rAP5\n",
      "1305611927926845445 2020-09-14 16:58:35 -0400 <sanassatan> cardi b a fazenda thread passar pano twice blackpink jisoo bts hot 100 exposed sdv followtrick bolsonaro vacina vitao fofo animal jojo anitta #StrayKidsIn生 #RIPJKRowling #BoicotePauloCoelho #Fazenda12 #LacosDeFamiliaNoGloboplay #SetembroAmarelo @JYPETWICE  https://t.co/yvpSbrIkYs\n",
      "1305611657725579266 2020-09-14 16:57:30 -0400 <RedeReviver> Profissionais especializados em cuidar de você. Aqui na Rede Reviver nosso objetivo é te proporcionar qualidade de vida e mostrar que não precisa fazer isso sozinho, nós ajudamos você. . Procure ajuda, procure Reviver! #redereviver #setembroamarelo #cvv188 #prevencao #joaopessoa  https://t.co/Zv4G97zoTt\n",
      "1305611306326724610 2020-09-14 16:56:07 -0400 <amauriandreskii> E a dois anos atrás esse era o trecho da carta que eu escrevi para deixar para meus pais e amigos!!  Se vc um dia passou e/ou passa por isso, procure ajuda, informe quem te ama, por mais que não pareça, sempre vai ter alguém pra ajudar!! Quer conversar sobre?!  #SetembroAmarelo  https://t.co/M37QcifHvX\n",
      "1305610930852704259 2020-09-14 16:54:37 -0400 <dougamordivino> Falar, escutar e acolher são ações fundamentais. Você não sabe o que o próximo está passando. Então, estenda a mão e ajude. #SetembroAmarelo  https://t.co/y0mkUdMb71  https://t.co/1EryaLLwA2\n",
      "1305610781082476544 2020-09-14 16:54:01 -0400 <beduarte> @renataloprete este é o assunto: transtornos psiquiátricos. Olho em volta e vejo muitas pessoas com uma história. #SetembroAmarelo\n",
      "1305610053727256579 2020-09-14 16:51:08 -0400 <tiamaoficial> Fui super atacada, mas isso só serviu para eu ter q certeza que não dá para a militância descansar! Preferem usar da perversidade e hostilidade do que refletir sobre um termo! E depois querem chegar com #SetembroAmarelo\n",
      "1305610041937059842 2020-09-14 16:51:05 -0400 <hopetaylorbrown> Cada personagem possui sua própria cicatriz mental e com isso um vício próprio para lidar com a vida, é um jogo que você explora e entende mais sobre as condições e transtornos da protagonista, Mae Borowski. #SetembroAmarelo #vidasimportam  https://t.co/GJUFrldz2s\n",
      "1305609978913456128 2020-09-14 16:50:50 -0400 <CamilaMFe> O Setembro Amarelo tem o objetivo de conscientizar e prevenir o suicídio.  Se precisar, Disque 188 ou mande uma DM.  #setembroamarelo #suicídio #depressãonãoéfrescura #amarelo #saúdemental #depressão  https://t.co/J2oG0UW4kq\n",
      "1305609113636872194 2020-09-14 16:47:24 -0400 <bxbytae0> @soares_rayh @tttronen Eu tava tão estressada... KKKK Acho que exagerei um pouco ;-; Me esqueci do #SetembroAmarelo\n",
      "1305608873605300225 2020-09-14 16:46:27 -0400 <brensakkkj> oi gente acabei de descobrir que: alem do #SetembroAmarelo CVV-188 existe o #setembroverde- Luta e igualdade dos deficientes\n",
      "1305608805561126913 2020-09-14 16:46:10 -0400 <carolminhoca> Para pensar em tirar a própria vida. No meu caso era a sensação de que um rolo compressor passava por mim todos os dias e eu tentava me reerguer. Meus problemas pessoais eram imensos. Passou e segui.Mas tem gente que não consegue.#SetembroAmarelo\n",
      "1305608759486681092 2020-09-14 16:45:59 -0400 <PrFlavioMineiro> A vida é feita de altos e baixos, e dependendo das nossas experiências isso pode ser traumático.  #inhumasgo #ibninhumas #pastorflaviomineiro #palavradedeus #setembroamarelo #soupelavida #vida  https://t.co/impdp8L98H via @FacebookWatch\n",
      "1305608047734206469 2020-09-14 16:43:10 -0400 <LandoGabriela> E aí eu recebo relatinhos sobre vocês e choro :(   Eu acredito, como o @cortellaoficial , em educação e aprendizagem com afeto! Talvez, mais do que nunca, isso é necessário para (sobre)viver esse período de pandemia!  #SetembroAmarelo #EducaçãocomAfeto\n",
      "1305607941190545409 2020-09-14 16:42:44 -0400 <redesejusc> #PraCegoVer A arte mostra o print do IGTV do Instagram com uma frase em destaque de uma fala da Psicóloga durante a live “Quando o medo se associa à constância e a paralisantes, você tem que procurar ajuda”   #GovernodoAmazonas #GovAM #SejuscAM #SetembroAmarelo\n",
      "1305606825258160128 2020-09-14 16:38:18 -0400 <paulokollaps>  https://t.co/kQMHuHKO3i #techno #hardtechno #oldschol #music #electronic #electronicbeats #dj #braziliandj #musicproducer #NoRacism #game #INSS #StayHome #SetembroAmarelo #COVID19\n",
      "1305604930766544896 2020-09-14 16:30:47 -0400 <copaecopa> #SetembroAmarelo no esporte pode? Deve! Vamos falar disso na nossa live, amanhã às 20h com a psicóloga do esporte Thayz Figueiredo.   https://t.co/51WddlO13s  https://t.co/szfqmEoi0f\n",
      "1305604844842110976 2020-09-14 16:30:26 -0400 <mdhbrasil> #SetembroAmarelo| Que tal se desconectar da internet um pouco e se conectar mais com sua família e amigos? Manter relações presenciais saudáveis ajuda a prevenir a depressão. Se você se sentir depressivo, não fique calado, peça ajuda. #DêUmLikeNaVida!  @DamaresAlves |@govbr |  https://t.co/SwV8GJvyer\n",
      "1305603742973276160 2020-09-14 16:26:03 -0400 <Crisbatista2015> I semana Internacional de Valorização da Vida da Escola de Felicidade de Brasília.  #SetembroAmarelo💛🎗🌻  https://t.co/Q6SuxAsqZu\n",
      "1305603709611708428 2020-09-14 16:25:55 -0400 <Sir_JohnDee> O mês de Setembro transforma-se em amarelo, mas as pessoas continuam pretas; imersas em seu próprio ego, escrevendo palavras bonitas sobre empatia, muitas vezes apenas para disfarçar o próprio coração apodrecido.  #SetembroAmarelo\n",
      "1305603593387544581 2020-09-14 16:25:28 -0400 <danilo_sardinha> Acabei de ver mais um comercial da famigerada \"Eu sou a Universal\". O relato? Uma mulher alegou que tinha um quadro de depressão, mas depois de ir à igreja, tá curada e casada. No #SetembroAmarelo esse tipo de fala é um desserviço.\n",
      "1305603153191227393 2020-09-14 16:23:43 -0400 <Astraurano> Apresento a vocês... 🔄+❤️ pra ajudar💛 Não sei se, de alguma maneira, o perdão faz parte do #SetembroAmarelo e eu nem sei se essa comic é mesmo sobre perdão... Porém, esse foi o nome que me veio a cabeça na hora. #digitalart #comic  https://t.co/HyTyTH6rhg\n",
      "1305601526220587008 2020-09-14 16:17:15 -0400 <chromatga> #SetembroAmarelo  https://t.co/tAJRHFOAdr\n",
      "1305600700261556224 2020-09-14 16:13:58 -0400 <UEAmazonas> Setembro amarelo - Mês de prevenção ao suicídio.  #uea #setembroamarelo  https://t.co/0FJLkJhArC\n",
      "1305599792786165764 2020-09-14 16:10:22 -0400 <ActorVivi> Tem #video novo e importante no ar!!  https://t.co/Nrg1LwAmy5  #SetembroAmarelo #SaúdeMental #ComidasEstranhas #pacoca #Converse #Viva #SeCuide #retrofuturismo #canalretrofuturismo #CombateAoSuicidio\n",
      "1305599428452134914 2020-09-14 16:08:55 -0400 <RetrofuturismoC> Tem #video novo e importante no ar!!  https://t.co/GU22loFCct  #SetembroAmarelo #SaúdeMental #ComidasEstranhas #pacoca #Converse #Viva #SeCuide #retrofuturismo #canalretrofuturismo #CombateAoSuicidio\n",
      "1305599305118633984 2020-09-14 16:08:25 -0400 <portalbrasil123> Risco de suicídio pode aumentar na pandemia, alerta OPAS  https://t.co/98M4rir2sW #SetembroAmarelo #SuicidePreventionDay\n",
      "1305597957811646465 2020-09-14 16:03:04 -0400 <ifscfloripa> #setembroamarelo e teremos como destaque a palestra/debate com o Raphael Travia, servidor e ativista na causa da saúde mental. Para ele,  saúde é algo para ser tratado de forma integral. Clique aqui --&gt;  https://t.co/jGwpti9MwL e saiba mais e participe do evento!  https://t.co/HsrAb9msO9\n",
      "1305597723966689280 2020-09-14 16:02:08 -0400 <foreverxer> #haikai #haiku #poesia #poetry #escritor #writer #WritingCommunity #ComunidadeLiteraria #SetembroAmarelo #HaikuChallenge #bruise  https://t.co/OWiuN6WYan\n",
      "1305596694931931137 2020-09-14 15:58:03 -0400 <falarnaomata> Fiz esse vídeo falando sobre suicídio, clica aqui  https://t.co/DPWtao367q #falarnaomata  #SetembroAmarelo\n",
      "1305596154298740738 2020-09-14 15:55:54 -0400 <falarnaomata> Dei um depoimento sobre saúde mental para a página Mulheres na Produção.   https://t.co/H8f5k0ed1z #falarnaomata  #SetembroAmarelo\n",
      "1305596025546121219 2020-09-14 15:55:23 -0400 <DceUfu> De: Anônimo Para: @IgorGodoi13   \"Eu não gosto de matemática, mas acho que dou conta de você\"  #correioelegantedceufu #setembroamarelo\n",
      "1305595671668457472 2020-09-14 15:53:59 -0400 <maritakamatsu> Fiz um vídeo sobre suicídio para o meu projeto Falar Não Mata, vai lá ver  https://t.co/voTyoUpFQK #falarnaomata  #SetembroAmarelo\n",
      "1305595446509867008 2020-09-14 15:53:05 -0400 <unimedvs_rs> Escolha um horário do dia para se informar e uma fonte segura e confiável. Leia todas as dicas para enfrentar o isolamento social com a saúde mental em dia em nosso site:  https://t.co/6ph4nXdCLz  #dicasunimedvs #SetembroAmarelo  https://t.co/uvHcQmweGG\n",
      "1305595443448029185 2020-09-14 15:53:05 -0400 <ultimateluckym1> @paliasatrouxa #SetembroAmarelo 😁👍\n",
      "1305593670599503874 2020-09-14 15:46:02 -0400 <meiregonzaga1> Pare de se sabotar e comece a crescer em todas as áreas de sua vida #bemestar #Psicologia #saudemental #SetembroAmarelo  https://t.co/P3sXeI6pyK\n",
      "1305593280881725441 2020-09-14 15:44:29 -0400 <GeorgeCoutoDF> #setembroamarelo\n",
      "1305592466574323712 2020-09-14 15:41:15 -0400 <ceupi_oficial> Estamos aqui para te ajudar, vamos conversar?  No dia 17/09 temos um encontro marcado com a Psicóloga Caroline Maranhão, que vai ministrar a palestra \"Você não está sozinho!\", às 17h, via TEAMS.  #ceupi #naad #ajuda #setembroamarelo #teams  https://t.co/9BqpirojVf\n",
      "1305592047009759235 2020-09-14 15:39:35 -0400 <lilyfaylinn> New post 10 de setembro  https://t.co/uGihbxzsMt #dearevanhensen #musical #música #pessoal #setembroamarelo\n",
      "1305589962730098688 2020-09-14 15:31:18 -0400 <secsegurancadf> 🎗A @ssp.df está nessa corrente pela vida! Não enfrente a tempestade só!  #setembroamarelo #setembroamarelo💛  https://t.co/Iv7GmH8yAx\n",
      "1305588802178764800 2020-09-14 15:26:41 -0400 <digodig> @garofeile #SetembroAmarelo\n",
      "1305588710340206592 2020-09-14 15:26:19 -0400 <TRF5_oficial> #SetembroAmarelo TRF5 promove, amanhã (15), a partir das 17h, no canal do YouTube da Corte ( https://t.co/QmOp9dtrdM), uma palestra virtual sobre valorização da vida em tempos de pandemia. Inscrições antecipadas em:  https://t.co/nUqdtWwC6k  https://t.co/N0C91kdnNU\n",
      "1305588222173605895 2020-09-14 15:24:23 -0400 <avidadumagay> Fiquem atento aos sinais!!! Não só no #SetembroAmarelo! Pela VIDA! Mais uma collab lynda do @que.isso.joao! 👌💛 Siga! @ezatamentchy @ezatamag PARA AJUDA LIGUE! 188 @cvvoficial  https://t.co/Ig9tQQKC9c\n",
      "1305588198781972481 2020-09-14 15:24:17 -0400 <NataliaAydos> Vídeo novo no Instagram sobre um tema muito sério e de extrema importância. O suicídio, e mais específico, entre as crianças. Sim, existe e temos que estar muito atentos. Dê apoio e procure suporte, procure um psicólogo (a). #setembroamarelo #setembro #amarelo #crianças #infantil\n",
      "1305588145665323009 2020-09-14 15:24:05 -0400 <ICIndaial4652> #setembroamarelo #indaial #interact  https://t.co/AAOgRGz8Xq\n",
      "1305586660642521095 2020-09-14 15:18:11 -0400 <MemesJeM> Saude mental não é de brincar. Nunca é frescura se te faz chorar! Se tu precisar disk o CVV, o mundo é bem mais top com você! 🎶 #Disk188 #SetembroAmarelo\n",
      "1305584602946441222 2020-09-14 15:10:00 -0400 <deathcertficate> @riverworlds #SetembroAmarelo\n",
      "1305584466094678018 2020-09-14 15:09:27 -0400 <CICV_pt> Fiquemos atentos à nossa #saúdemental, principalmente em tempos de pandemia.  #setembroamarelo #prevenção #suicidio  https://t.co/U24v1kSVBN\n",
      "1305584446419226630 2020-09-14 15:09:23 -0400 <figueirakkj> @jumelatk @_ryanmorabito @brunine_ #amor #pas #SetembroAmarelo\n",
      "1305584200297451524 2020-09-14 15:08:24 -0400 <SetembroAmarelo> Cada um participa desse movimento do #SetembroAmarelo do seu jeito... o importante é levar a informação a quem precisa!!! #apoioemocional #falaréamelhorsolução #busqueajuda #cvv188  https://t.co/EwsYGjMtoO\n",
      "1305581764044378112 2020-09-14 14:58:43 -0400 <unpoficial> Não perca o bate-papo sobre a campanha do Setembro Amarelo com a professora Ana Izabel Oliveira. Inscreva-se já:  https://t.co/MZBYP1x7Si 💛 #SetembroAmarelo  https://t.co/MDZB4X3lbU\n",
      "1305581077646454784 2020-09-14 14:56:00 -0400 <GuerreiroKha> Gente o cansaço repentino a dor e o medo são reais, nem tudo é drama, muitas das vezes a gente só demonstra estar bem, pq não sabe explicar o real motivo de estar mal, #SetembroAmarelo né, demonstre amor pra quem vc ama sempre, amanhã pode ser tarde demais  https://t.co/ihSoSRKM7P\n",
      "1305580979742965760 2020-09-14 14:55:36 -0400 <DceUfu> De: Anônimo Para: @mariaolivia_f   \"Queria ser John Locke, mas Locke não posso ser, pois Locke dizia que o homem nasce como uma folha em branco, e eu já nasci com a minha escrito: eu amo você! ❤️\"  #correioelegantedceufu #setembroamarelo\n",
      "1305580793868308480 2020-09-14 14:54:52 -0400 <fabiorms> Sugeri que poderia querer tirar minha própria vida. #SetembroAmarelo #suicidio   https://t.co/DqdEir0XI2\n",
      "1305579933905883136 2020-09-14 14:51:27 -0400 <MarieteBrito> Esposo da minha amiga foi diagnosticado com esclerose múltipla. Ajude essa família o remédio custa R$ 36 mil cada. #SegundaDetremuraSDV  #SetembroAmarelo  #SegundaBestFriendsSDV  #SegundaCarpeDiemSDV  #sensatosnocomando  #segundou  #Segunda  #SemanaBrasil  #segundou  https://t.co/LWbP2CT6Ks\n",
      "1305579697321971714 2020-09-14 14:50:30 -0400 <AndyLeahOf> Um início de semana maravilhoso a todos 🥰❤  #setembroamarelo  #SegundaDetremuraSDV  https://t.co/9QF0dX1tTN\n",
      "1305579517315108865 2020-09-14 14:49:48 -0400 <wolfieallie> O sogro da minha irmã se matou enforcado 😔 gente depressão é coisa séria 😔 ele estava avisando que ia fazer isso mas ninguém levou tão a sério #SetembroAmarelo\n",
      "1305579177312243712 2020-09-14 14:48:27 -0400 <OficialCeperj> O que você anda fazendo para equilibrar corpo e mente nestes tempos difíceis e instáveis de pandemia? Compartilhe suas ideias. Seu comentário pode ajudar alguém que esteja precisando 🌻 #compartilheesperança #setembroamarelo #ceperjcontraosuicídio #prevencãoaosuicídio #govrj\n",
      "1305575710795485184 2020-09-14 14:34:40 -0400 <FacenetLook> #busqueajuda  #cvv . #bomcombate #7dicas #saúdemental #centrodevalorizaçãoavida #pensamentossuicidas #diganão #selivre #setembroamarelo #campanha #fnl 🎗🗣💛 . 🌐  https://t.co/xD2yRTuZ8c\n",
      "1305573814277939203 2020-09-14 14:27:08 -0400 <CacauQueiroga> Uma semana abençoada! #serfeliz #SetembroAmarelo #cacauarquiteta #família #empreendorismo  https://t.co/ZvZa6ergkf\n",
      "1305573155403042816 2020-09-14 14:24:31 -0400 <centrounigama> ☝️😀💛💛 #projeto #SetembroAmarelo #amarelo ##SuicídioNãoÉASolução #emicida #palestra #saude 😉👏  https://t.co/HTlsrWQURr\n",
      "1305573096674525186 2020-09-14 14:24:17 -0400 <CRCSP_Oficial> Dados de 2016 do Ministério da Saúde mostram que jovens e adolescentes negros têm 45% mais chances de cometer suicídio. Os principais motivos são o racismo e a invisibilidade social.  Em 2020 ainda estamos na luta contra essa causa.  #SetembroAmarelo #VidasImportam #crcsp  https://t.co/qT5H32U5tg\n",
      "1305571920902008833 2020-09-14 14:19:36 -0400 <edney_almeidaa> Viva a vida, não se queixe tanto, não se martirise tanto,não der tanta explicações, é sempre melhor ter paz do que razão.   #SetembroAmarelo #amoravida\n",
      "1305570971131183106 2020-09-14 14:15:50 -0400 <lgbt_pt_br> #SetembroAmarelo Não basta só conversar! ASSISTA  https://t.co/Fuzi9Gbhb4 e compartilhe!  Siga o @FabricioViana  #saudemental #psicologia #youtube #youtubebrasil #depressao #FiqueEmCasa #pandemia #tristeza #solidão #sofrimento #prevençãoaosuicídio #lgbtqemcasa #saudepublica  https://t.co/OV5RzL4cmk\n"
     ]
    },
    {
     "output_type": "error",
     "ename": "KeyboardInterrupt",
     "evalue": "",
     "traceback": [
      "\u001b[1;31m---------------------------------------------------------------------------\u001b[0m",
      "\u001b[1;31mKeyboardInterrupt\u001b[0m                         Traceback (most recent call last)",
      "\u001b[1;32m<ipython-input-6-f28f8e9aab1e>\u001b[0m in \u001b[0;36m<module>\u001b[1;34m\u001b[0m\n\u001b[1;32m----> 1\u001b[1;33m \u001b[0mtwint\u001b[0m\u001b[1;33m.\u001b[0m\u001b[0mrun\u001b[0m\u001b[1;33m.\u001b[0m\u001b[0mSearch\u001b[0m\u001b[1;33m(\u001b[0m\u001b[0mc\u001b[0m\u001b[1;33m)\u001b[0m\u001b[1;33m\u001b[0m\u001b[1;33m\u001b[0m\u001b[0m\n\u001b[0m",
      "\u001b[1;32m~\\miniconda3\\envs\\twint\\lib\\site-packages\\twint\\run.py\u001b[0m in \u001b[0;36mSearch\u001b[1;34m(config, callback)\u001b[0m\n\u001b[0;32m    420\u001b[0m     \u001b[0mconfig\u001b[0m\u001b[1;33m.\u001b[0m\u001b[0mFollowers\u001b[0m \u001b[1;33m=\u001b[0m \u001b[1;32mFalse\u001b[0m\u001b[1;33m\u001b[0m\u001b[1;33m\u001b[0m\u001b[0m\n\u001b[0;32m    421\u001b[0m     \u001b[0mconfig\u001b[0m\u001b[1;33m.\u001b[0m\u001b[0mProfile\u001b[0m \u001b[1;33m=\u001b[0m \u001b[1;32mFalse\u001b[0m\u001b[1;33m\u001b[0m\u001b[1;33m\u001b[0m\u001b[0m\n\u001b[1;32m--> 422\u001b[1;33m     \u001b[0mrun\u001b[0m\u001b[1;33m(\u001b[0m\u001b[0mconfig\u001b[0m\u001b[1;33m,\u001b[0m \u001b[0mcallback\u001b[0m\u001b[1;33m)\u001b[0m\u001b[1;33m\u001b[0m\u001b[1;33m\u001b[0m\u001b[0m\n\u001b[0m\u001b[0;32m    423\u001b[0m     \u001b[1;32mif\u001b[0m \u001b[0mconfig\u001b[0m\u001b[1;33m.\u001b[0m\u001b[0mPandas_au\u001b[0m\u001b[1;33m:\u001b[0m\u001b[1;33m\u001b[0m\u001b[1;33m\u001b[0m\u001b[0m\n\u001b[0;32m    424\u001b[0m         \u001b[0mstorage\u001b[0m\u001b[1;33m.\u001b[0m\u001b[0mpanda\u001b[0m\u001b[1;33m.\u001b[0m\u001b[0m_autoget\u001b[0m\u001b[1;33m(\u001b[0m\u001b[1;34m\"tweet\"\u001b[0m\u001b[1;33m)\u001b[0m\u001b[1;33m\u001b[0m\u001b[1;33m\u001b[0m\u001b[0m\n",
      "\u001b[1;32m~\\miniconda3\\envs\\twint\\lib\\site-packages\\twint\\run.py\u001b[0m in \u001b[0;36mrun\u001b[1;34m(config, callback, twint_class)\u001b[0m\n\u001b[0;32m    332\u001b[0m     \u001b[1;32mif\u001b[0m \u001b[1;32mnot\u001b[0m \u001b[0mtwint_class\u001b[0m\u001b[1;33m:\u001b[0m\u001b[1;33m\u001b[0m\u001b[1;33m\u001b[0m\u001b[0m\n\u001b[0;32m    333\u001b[0m         \u001b[0mtwint_class\u001b[0m \u001b[1;33m=\u001b[0m \u001b[0mTwint\u001b[0m\u001b[1;33m(\u001b[0m\u001b[0mconfig\u001b[0m\u001b[1;33m)\u001b[0m\u001b[1;33m\u001b[0m\u001b[1;33m\u001b[0m\u001b[0m\n\u001b[1;32m--> 334\u001b[1;33m     \u001b[0mget_event_loop\u001b[0m\u001b[1;33m(\u001b[0m\u001b[1;33m)\u001b[0m\u001b[1;33m.\u001b[0m\u001b[0mrun_until_complete\u001b[0m\u001b[1;33m(\u001b[0m\u001b[0mtwint_class\u001b[0m\u001b[1;33m.\u001b[0m\u001b[0mmain\u001b[0m\u001b[1;33m(\u001b[0m\u001b[0mcallback\u001b[0m\u001b[1;33m)\u001b[0m\u001b[1;33m)\u001b[0m\u001b[1;33m\u001b[0m\u001b[1;33m\u001b[0m\u001b[0m\n\u001b[0m\u001b[0;32m    335\u001b[0m     \u001b[1;32mreturn\u001b[0m \u001b[0mtwint_class\u001b[0m\u001b[1;33m\u001b[0m\u001b[1;33m\u001b[0m\u001b[0m\n\u001b[0;32m    336\u001b[0m \u001b[1;33m\u001b[0m\u001b[0m\n",
      "\u001b[1;32m~\\miniconda3\\envs\\twint\\lib\\site-packages\\nest_asyncio.py\u001b[0m in \u001b[0;36mrun_until_complete\u001b[1;34m(self, future)\u001b[0m\n\u001b[0;32m     62\u001b[0m                 \u001b[0mf\u001b[0m\u001b[1;33m.\u001b[0m\u001b[0m_log_destroy_pending\u001b[0m \u001b[1;33m=\u001b[0m \u001b[1;32mFalse\u001b[0m\u001b[1;33m\u001b[0m\u001b[1;33m\u001b[0m\u001b[0m\n\u001b[0;32m     63\u001b[0m             \u001b[1;32mwhile\u001b[0m \u001b[1;32mnot\u001b[0m \u001b[0mf\u001b[0m\u001b[1;33m.\u001b[0m\u001b[0mdone\u001b[0m\u001b[1;33m(\u001b[0m\u001b[1;33m)\u001b[0m\u001b[1;33m:\u001b[0m\u001b[1;33m\u001b[0m\u001b[1;33m\u001b[0m\u001b[0m\n\u001b[1;32m---> 64\u001b[1;33m                 \u001b[0mself\u001b[0m\u001b[1;33m.\u001b[0m\u001b[0m_run_once\u001b[0m\u001b[1;33m(\u001b[0m\u001b[1;33m)\u001b[0m\u001b[1;33m\u001b[0m\u001b[1;33m\u001b[0m\u001b[0m\n\u001b[0m\u001b[0;32m     65\u001b[0m                 \u001b[1;32mif\u001b[0m \u001b[0mself\u001b[0m\u001b[1;33m.\u001b[0m\u001b[0m_stopping\u001b[0m\u001b[1;33m:\u001b[0m\u001b[1;33m\u001b[0m\u001b[1;33m\u001b[0m\u001b[0m\n\u001b[0;32m     66\u001b[0m                     \u001b[1;32mbreak\u001b[0m\u001b[1;33m\u001b[0m\u001b[1;33m\u001b[0m\u001b[0m\n",
      "\u001b[1;32m~\\miniconda3\\envs\\twint\\lib\\site-packages\\nest_asyncio.py\u001b[0m in \u001b[0;36m_run_once\u001b[1;34m(self)\u001b[0m\n\u001b[0;32m     85\u001b[0m             \u001b[1;32melse\u001b[0m \u001b[0mmin\u001b[0m\u001b[1;33m(\u001b[0m\u001b[0mmax\u001b[0m\u001b[1;33m(\u001b[0m\u001b[0mscheduled\u001b[0m\u001b[1;33m[\u001b[0m\u001b[1;36m0\u001b[0m\u001b[1;33m]\u001b[0m\u001b[1;33m.\u001b[0m\u001b[0m_when\u001b[0m \u001b[1;33m-\u001b[0m \u001b[0mnow\u001b[0m\u001b[1;33m,\u001b[0m \u001b[1;36m0\u001b[0m\u001b[1;33m)\u001b[0m\u001b[1;33m,\u001b[0m \u001b[1;36m86400\u001b[0m\u001b[1;33m)\u001b[0m \u001b[1;32mif\u001b[0m \u001b[0mscheduled\u001b[0m\u001b[1;33m\u001b[0m\u001b[1;33m\u001b[0m\u001b[0m\n\u001b[0;32m     86\u001b[0m             else None)\n\u001b[1;32m---> 87\u001b[1;33m         \u001b[0mevent_list\u001b[0m \u001b[1;33m=\u001b[0m \u001b[0mself\u001b[0m\u001b[1;33m.\u001b[0m\u001b[0m_selector\u001b[0m\u001b[1;33m.\u001b[0m\u001b[0mselect\u001b[0m\u001b[1;33m(\u001b[0m\u001b[0mtimeout\u001b[0m\u001b[1;33m)\u001b[0m\u001b[1;33m\u001b[0m\u001b[1;33m\u001b[0m\u001b[0m\n\u001b[0m\u001b[0;32m     88\u001b[0m         \u001b[0mself\u001b[0m\u001b[1;33m.\u001b[0m\u001b[0m_process_events\u001b[0m\u001b[1;33m(\u001b[0m\u001b[0mevent_list\u001b[0m\u001b[1;33m)\u001b[0m\u001b[1;33m\u001b[0m\u001b[1;33m\u001b[0m\u001b[0m\n\u001b[0;32m     89\u001b[0m \u001b[1;33m\u001b[0m\u001b[0m\n",
      "\u001b[1;32m~\\miniconda3\\envs\\twint\\lib\\selectors.py\u001b[0m in \u001b[0;36mselect\u001b[1;34m(self, timeout)\u001b[0m\n\u001b[0;32m    321\u001b[0m         \u001b[0mready\u001b[0m \u001b[1;33m=\u001b[0m \u001b[1;33m[\u001b[0m\u001b[1;33m]\u001b[0m\u001b[1;33m\u001b[0m\u001b[1;33m\u001b[0m\u001b[0m\n\u001b[0;32m    322\u001b[0m         \u001b[1;32mtry\u001b[0m\u001b[1;33m:\u001b[0m\u001b[1;33m\u001b[0m\u001b[1;33m\u001b[0m\u001b[0m\n\u001b[1;32m--> 323\u001b[1;33m             \u001b[0mr\u001b[0m\u001b[1;33m,\u001b[0m \u001b[0mw\u001b[0m\u001b[1;33m,\u001b[0m \u001b[0m_\u001b[0m \u001b[1;33m=\u001b[0m \u001b[0mself\u001b[0m\u001b[1;33m.\u001b[0m\u001b[0m_select\u001b[0m\u001b[1;33m(\u001b[0m\u001b[0mself\u001b[0m\u001b[1;33m.\u001b[0m\u001b[0m_readers\u001b[0m\u001b[1;33m,\u001b[0m \u001b[0mself\u001b[0m\u001b[1;33m.\u001b[0m\u001b[0m_writers\u001b[0m\u001b[1;33m,\u001b[0m \u001b[1;33m[\u001b[0m\u001b[1;33m]\u001b[0m\u001b[1;33m,\u001b[0m \u001b[0mtimeout\u001b[0m\u001b[1;33m)\u001b[0m\u001b[1;33m\u001b[0m\u001b[1;33m\u001b[0m\u001b[0m\n\u001b[0m\u001b[0;32m    324\u001b[0m         \u001b[1;32mexcept\u001b[0m \u001b[0mInterruptedError\u001b[0m\u001b[1;33m:\u001b[0m\u001b[1;33m\u001b[0m\u001b[1;33m\u001b[0m\u001b[0m\n\u001b[0;32m    325\u001b[0m             \u001b[1;32mreturn\u001b[0m \u001b[0mready\u001b[0m\u001b[1;33m\u001b[0m\u001b[1;33m\u001b[0m\u001b[0m\n",
      "\u001b[1;32m~\\miniconda3\\envs\\twint\\lib\\selectors.py\u001b[0m in \u001b[0;36m_select\u001b[1;34m(self, r, w, _, timeout)\u001b[0m\n\u001b[0;32m    312\u001b[0m     \u001b[1;32mif\u001b[0m \u001b[0msys\u001b[0m\u001b[1;33m.\u001b[0m\u001b[0mplatform\u001b[0m \u001b[1;33m==\u001b[0m \u001b[1;34m'win32'\u001b[0m\u001b[1;33m:\u001b[0m\u001b[1;33m\u001b[0m\u001b[1;33m\u001b[0m\u001b[0m\n\u001b[0;32m    313\u001b[0m         \u001b[1;32mdef\u001b[0m \u001b[0m_select\u001b[0m\u001b[1;33m(\u001b[0m\u001b[0mself\u001b[0m\u001b[1;33m,\u001b[0m \u001b[0mr\u001b[0m\u001b[1;33m,\u001b[0m \u001b[0mw\u001b[0m\u001b[1;33m,\u001b[0m \u001b[0m_\u001b[0m\u001b[1;33m,\u001b[0m \u001b[0mtimeout\u001b[0m\u001b[1;33m=\u001b[0m\u001b[1;32mNone\u001b[0m\u001b[1;33m)\u001b[0m\u001b[1;33m:\u001b[0m\u001b[1;33m\u001b[0m\u001b[1;33m\u001b[0m\u001b[0m\n\u001b[1;32m--> 314\u001b[1;33m             \u001b[0mr\u001b[0m\u001b[1;33m,\u001b[0m \u001b[0mw\u001b[0m\u001b[1;33m,\u001b[0m \u001b[0mx\u001b[0m \u001b[1;33m=\u001b[0m \u001b[0mselect\u001b[0m\u001b[1;33m.\u001b[0m\u001b[0mselect\u001b[0m\u001b[1;33m(\u001b[0m\u001b[0mr\u001b[0m\u001b[1;33m,\u001b[0m \u001b[0mw\u001b[0m\u001b[1;33m,\u001b[0m \u001b[0mw\u001b[0m\u001b[1;33m,\u001b[0m \u001b[0mtimeout\u001b[0m\u001b[1;33m)\u001b[0m\u001b[1;33m\u001b[0m\u001b[1;33m\u001b[0m\u001b[0m\n\u001b[0m\u001b[0;32m    315\u001b[0m             \u001b[1;32mreturn\u001b[0m \u001b[0mr\u001b[0m\u001b[1;33m,\u001b[0m \u001b[0mw\u001b[0m \u001b[1;33m+\u001b[0m \u001b[0mx\u001b[0m\u001b[1;33m,\u001b[0m \u001b[1;33m[\u001b[0m\u001b[1;33m]\u001b[0m\u001b[1;33m\u001b[0m\u001b[1;33m\u001b[0m\u001b[0m\n\u001b[0;32m    316\u001b[0m     \u001b[1;32melse\u001b[0m\u001b[1;33m:\u001b[0m\u001b[1;33m\u001b[0m\u001b[1;33m\u001b[0m\u001b[0m\n",
      "\u001b[1;31mKeyboardInterrupt\u001b[0m: "
     ]
    }
   ],
   "source": [
    "twint.run.Search(c)"
   ]
  },
  {
   "cell_type": "code",
   "execution_count": null,
   "metadata": {},
   "outputs": [],
   "source": []
  }
 ]
}