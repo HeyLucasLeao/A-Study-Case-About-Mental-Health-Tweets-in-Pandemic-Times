{
 "cells": [
  {
   "cell_type": "code",
   "execution_count": 2,
   "metadata": {},
   "outputs": [],
   "source": [
    "import pandas as pd\n",
    "import plotly.express as px\n",
    "import re\n",
    "from os import listdir"
   ]
  },
  {
   "cell_type": "code",
   "execution_count": 1,
   "metadata": {},
   "outputs": [],
   "source": [
    "PATH_RAW = r'C:\\Users\\heylu\\Documents\\github\\Sentimental Analysis -  A Study Case About Mental Health in Pandemic Times\\data\\raw'\n",
    "PATH_PROCESSED = r'C:\\Users\\heylu\\Documents\\github\\Sentimental Analysis -  A Study Case About Mental Health in Pandemic Times\\data\\processed'"
   ]
  },
  {
   "cell_type": "code",
   "execution_count": 3,
   "metadata": {},
   "outputs": [],
   "source": [
    "def cleaning_tweets(data, language='pt'):\n",
    "    dataset = data.copy()\n",
    "    dataset = dataset[dataset['language'] == language]\n",
    "    dataset.drop_duplicates('tweet', inplace=True)\n",
    "    dataset.drop_duplicates('username', inplace=True)\n",
    "    dataset['hashtags'] = [\", \".join(y for y in re.findall('\\B#\\w\\w+', x)) for x in dataset['tweet']]\n",
    "    dataset = dataset[['date','tweet','hashtags']]\n",
    "    dataset\n",
    "\n",
    "    return dataset"
   ]
  },
  {
   "cell_type": "code",
   "execution_count": 6,
   "metadata": {},
   "outputs": [],
   "source": [
    "for f in listdir(PATH_RAW):\n",
    "    dataset = pd.read_csv(PATH_RAW + \"\\\\\" + f)\n",
    "    dataset = cleaning_tweets(dataset)\n",
    "    dataset.to_csv(PATH_PROCESSED + \"\\\\\" + f)"
   ]
  },
  {
   "cell_type": "code",
   "execution_count": 11,
   "metadata": {},
   "outputs": [],
   "source": [
    "dataset = pd.DataFrame()\n",
    "\n",
    "for f in listdir(PATH_PROCESSED):\n",
    "    df = pd.read_csv(PATH_PROCESSED + \"\\\\\" + f)\n",
    "    dataset = pd.concat([dataset, df])\n",
    "    \n",
    "dataset = dataset.drop_duplicates('tweet')"
   ]
  },
  {
   "cell_type": "code",
   "execution_count": 18,
   "metadata": {},
   "outputs": [
    {
     "output_type": "execute_result",
     "data": {
      "text/plain": [
       "    Unnamed: 0        date                                              tweet  \\\n",
       "0            0  2021-04-29  #Ansiedade não se resolve com um convite para ...   \n",
       "1            1  2021-04-28  Viver com Ansiedade afeta mais ainda a vida qu...   \n",
       "2            2  2021-04-28  Eu voto sim pelo fim da minha ansiedade.💭 #ans...   \n",
       "3            5  2021-04-22  Ou pelo menos deveria ser.   Não tenham vergon...   \n",
       "4            6  2021-04-10  Minha ansiedade me faz:  Desisti de coisas ant...   \n",
       "..         ...         ...                                                ...   \n",
       "63         100  2017-09-30  Odeio acordar e já sentir essa sensação de med...   \n",
       "64         101  2017-06-22  Eu me vi livre de voce por 6 meses. Mas você v...   \n",
       "65         102  2017-04-26  Não consigo dormir..  #TranstornoDeAnsiedade #...   \n",
       "66         104  2016-09-28  Pequena vitória do dia: entrar no carro e ir s...   \n",
       "67         106  2016-04-01  Fico vendo essas merdas e passo mal, febre, fi...   \n",
       "\n",
       "                                             hashtags  \n",
       "0   #Ansiedade, #ansiedadenaoéfrescura, #Terapia, ...  \n",
       "1    #ansiedade, #psicanalise, #ansiedadenãoéfrescura  \n",
       "2                              #ansiedadenãoéfrescura  \n",
       "3                              #ansiedadenaoefrescura  \n",
       "4                              #ansiedadenãoéfrescura  \n",
       "..                                                ...  \n",
       "63                      #saco, #transtornodeansiedade  \n",
       "64             #transtornodeansiedade, #naoépalhaçada  \n",
       "65                      #TranstornoDeAnsiedade, #scrr  \n",
       "66                             #transtornodeansiedade  \n",
       "67                             #transtornodeansiedade  \n",
       "\n",
       "[28766 rows x 4 columns]"
      ],
      "text/html": "<div>\n<style scoped>\n    .dataframe tbody tr th:only-of-type {\n        vertical-align: middle;\n    }\n\n    .dataframe tbody tr th {\n        vertical-align: top;\n    }\n\n    .dataframe thead th {\n        text-align: right;\n    }\n</style>\n<table border=\"1\" class=\"dataframe\">\n  <thead>\n    <tr style=\"text-align: right;\">\n      <th></th>\n      <th>Unnamed: 0</th>\n      <th>date</th>\n      <th>tweet</th>\n      <th>hashtags</th>\n    </tr>\n  </thead>\n  <tbody>\n    <tr>\n      <th>0</th>\n      <td>0</td>\n      <td>2021-04-29</td>\n      <td>#Ansiedade não se resolve com um convite para ...</td>\n      <td>#Ansiedade, #ansiedadenaoéfrescura, #Terapia, ...</td>\n    </tr>\n    <tr>\n      <th>1</th>\n      <td>1</td>\n      <td>2021-04-28</td>\n      <td>Viver com Ansiedade afeta mais ainda a vida qu...</td>\n      <td>#ansiedade, #psicanalise, #ansiedadenãoéfrescura</td>\n    </tr>\n    <tr>\n      <th>2</th>\n      <td>2</td>\n      <td>2021-04-28</td>\n      <td>Eu voto sim pelo fim da minha ansiedade.💭 #ans...</td>\n      <td>#ansiedadenãoéfrescura</td>\n    </tr>\n    <tr>\n      <th>3</th>\n      <td>5</td>\n      <td>2021-04-22</td>\n      <td>Ou pelo menos deveria ser.   Não tenham vergon...</td>\n      <td>#ansiedadenaoefrescura</td>\n    </tr>\n    <tr>\n      <th>4</th>\n      <td>6</td>\n      <td>2021-04-10</td>\n      <td>Minha ansiedade me faz:  Desisti de coisas ant...</td>\n      <td>#ansiedadenãoéfrescura</td>\n    </tr>\n    <tr>\n      <th>...</th>\n      <td>...</td>\n      <td>...</td>\n      <td>...</td>\n      <td>...</td>\n    </tr>\n    <tr>\n      <th>63</th>\n      <td>100</td>\n      <td>2017-09-30</td>\n      <td>Odeio acordar e já sentir essa sensação de med...</td>\n      <td>#saco, #transtornodeansiedade</td>\n    </tr>\n    <tr>\n      <th>64</th>\n      <td>101</td>\n      <td>2017-06-22</td>\n      <td>Eu me vi livre de voce por 6 meses. Mas você v...</td>\n      <td>#transtornodeansiedade, #naoépalhaçada</td>\n    </tr>\n    <tr>\n      <th>65</th>\n      <td>102</td>\n      <td>2017-04-26</td>\n      <td>Não consigo dormir..  #TranstornoDeAnsiedade #...</td>\n      <td>#TranstornoDeAnsiedade, #scrr</td>\n    </tr>\n    <tr>\n      <th>66</th>\n      <td>104</td>\n      <td>2016-09-28</td>\n      <td>Pequena vitória do dia: entrar no carro e ir s...</td>\n      <td>#transtornodeansiedade</td>\n    </tr>\n    <tr>\n      <th>67</th>\n      <td>106</td>\n      <td>2016-04-01</td>\n      <td>Fico vendo essas merdas e passo mal, febre, fi...</td>\n      <td>#transtornodeansiedade</td>\n    </tr>\n  </tbody>\n</table>\n<p>28766 rows × 4 columns</p>\n</div>"
     },
     "metadata": {},
     "execution_count": 18
    }
   ],
   "source": [
    "dataset"
   ]
  },
  {
   "cell_type": "code",
   "execution_count": null,
   "metadata": {},
   "outputs": [],
   "source": []
  }
 ],
 "metadata": {
  "kernelspec": {
   "name": "python3613jvsc74a57bd0ccbe1d209069a6934c6baf0d50ddbcb072d245e139d3821e0ac48cf43eca06e5",
   "display_name": "Python 3.6.13 64-bit ('twint': conda)"
  },
  "language_info": {
   "codemirror_mode": {
    "name": "ipython",
    "version": 3
   },
   "file_extension": ".py",
   "mimetype": "text/x-python",
   "name": "python",
   "nbconvert_exporter": "python",
   "pygments_lexer": "ipython3",
   "version": "3.6.13"
  },
  "metadata": {
   "interpreter": {
    "hash": "ccbe1d209069a6934c6baf0d50ddbcb072d245e139d3821e0ac48cf43eca06e5"
   }
  }
 },
 "nbformat": 4,
 "nbformat_minor": 2
}