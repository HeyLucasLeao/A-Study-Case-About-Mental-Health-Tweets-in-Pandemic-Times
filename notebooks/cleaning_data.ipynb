{
 "cells": [
  {
   "cell_type": "code",
   "execution_count": 137,
   "metadata": {},
   "outputs": [],
   "source": [
    "import pandas as pd\n",
    "import plotly.express as px\n",
    "import re\n",
    "from collections import Counter"
   ]
  },
  {
   "cell_type": "code",
   "execution_count": 138,
   "metadata": {},
   "outputs": [],
   "source": [
    "dataset = pd.read_csv(r'C:\\Users\\heylu\\Documents\\github\\Sentimental Analysis -  A Study Case About Mental Health in Pandemic Times\\data\\raw\\saudemental.csv')"
   ]
  },
  {
   "cell_type": "code",
   "execution_count": 139,
   "metadata": {},
   "outputs": [],
   "source": [
    "def cleaning_tweets(data, language='pt'):\n",
    "    dataset = data.copy()\n",
    "    dataset = dataset[dataset['language'] == language]\n",
    "    dataset.drop_duplicates('tweet', inplace=True)\n",
    "    dataset.drop_duplicates('username', inplace=True)\n",
    "    dataset['hashtags'] = [\", \".join(y for y in re.findall('\\B#\\w\\w+', x)) for x in dataset['tweet']]\n",
    "    dataset = dataset[['date','tweet','hashtags']]\n",
    "    dataset\n",
    "\n",
    "    return dataset"
   ]
  },
  {
   "cell_type": "code",
   "execution_count": 140,
   "metadata": {},
   "outputs": [],
   "source": [
    "data = cleaning_tweets(dataset)"
   ]
  },
  {
   "cell_type": "code",
   "execution_count": 141,
   "metadata": {},
   "outputs": [],
   "source": [
    "def selecionar_hashtag(data, hashtag):\n",
    "    arr = []\n",
    "    for x in data['hashtags']:\n",
    "        arr.append(bool(hashtag in x))\n",
    "    return data['tweet'][arr]"
   ]
  },
  {
   "cell_type": "code",
   "execution_count": 144,
   "metadata": {},
   "outputs": [],
   "source": [
    "data.drop(index=[\n",
    "990, \n",
    "1100, \n",
    "1111, \n",
    "1345, \n",
    "1109, \n",
    "2070, \n",
    "1866, \n",
    "126, \n",
    "475,\n",
    "281,\n",
    "643,\n",
    "1427,\n",
    "1721,\n",
    "2062,\n",
    "2102], inplace=True)"
   ]
  },
  {
   "cell_type": "code",
   "execution_count": 154,
   "metadata": {},
   "outputs": [],
   "source": [
    "data.to_csv(r\"C:\\Users\\heylu\\Documents\\github\\Sentimental Analysis -  A Study Case About Mental Health in Pandemic Times\\data\\processed\\saudemental.csv\")"
   ]
  },
  {
   "cell_type": "code",
   "execution_count": null,
   "metadata": {},
   "outputs": [],
   "source": []
  }
 ],
 "metadata": {
  "kernelspec": {
   "name": "python3613jvsc74a57bd0ccbe1d209069a6934c6baf0d50ddbcb072d245e139d3821e0ac48cf43eca06e5",
   "display_name": "Python 3.6.13 64-bit ('twint': conda)"
  },
  "language_info": {
   "codemirror_mode": {
    "name": "ipython",
    "version": 3
   },
   "file_extension": ".py",
   "mimetype": "text/x-python",
   "name": "python",
   "nbconvert_exporter": "python",
   "pygments_lexer": "ipython3",
   "version": "3.6.13"
  },
  "metadata": {
   "interpreter": {
    "hash": "ccbe1d209069a6934c6baf0d50ddbcb072d245e139d3821e0ac48cf43eca06e5"
   }
  }
 },
 "nbformat": 4,
 "nbformat_minor": 2
}