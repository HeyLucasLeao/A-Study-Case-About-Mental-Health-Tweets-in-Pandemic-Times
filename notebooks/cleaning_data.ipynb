{
 "cells": [
  {
   "cell_type": "code",
   "execution_count": 34,
   "metadata": {},
   "outputs": [],
   "source": [
    "import pandas as pd\n",
    "import plotly.express as px\n",
    "import re\n",
    "from collections import Counter"
   ]
  },
  {
   "cell_type": "code",
   "execution_count": 5,
   "metadata": {},
   "outputs": [],
   "source": [
    "dataset = pd.read_csv(r'C:\\Users\\heylu\\Documents\\github\\Sentimental Analysis -  A Study Case About Mental Health in Pandemic Times\\data\\raw\\saudemental.csv')"
   ]
  },
  {
   "cell_type": "code",
   "execution_count": 21,
   "metadata": {},
   "outputs": [],
   "source": [
    "def cleaning_data(data):\n",
    "    dataset = data.copy()\n",
    "    dataset.drop(columns=[\n",
    "    'conversation_id', \n",
    "    'timezone', \n",
    "    'time', \n",
    "    'place', \n",
    "    'mentions', \n",
    "    'geo', \n",
    "    'source', \n",
    "    'user_rt_id', \n",
    "    'user_rt', \n",
    "    'trans_src',\n",
    "    'created_at',\n",
    "    'user_id',\n",
    "    'name',\n",
    "    'video',\n",
    "    'thumbnail',\n",
    "    'translate',\n",
    "    'trans_dest',\n",
    "    'reply_to',\n",
    "    'source',\n",
    "    'near',\n",
    "    'quote_url',\n",
    "    'retweet',\n",
    "    'cashtags',\n",
    "    'hashtags',\n",
    "    'retweets_count',\n",
    "    'replies_count',\n",
    "    'photos',\n",
    "    'urls',\n",
    "    'retweet_id',\n",
    "    'retweet_date',\n",
    "    'link',\n",
    "    'likes_count'],\n",
    "    inplace=True)\n",
    "\n",
    "    dataset = dataset[dataset['language'] == 'pt']\n",
    "    dataset.drop_duplicates('tweet', inplace=True)\n",
    "    dataset.drop_duplicates('username', inplace=True)\n",
    "    dataset.drop(columns=['language', 'id', 'username'], inplace=True)\n",
    "    dataset.set_index('date', inplace=True)\n",
    "\n",
    "    return dataset"
   ]
  },
  {
   "cell_type": "code",
   "execution_count": 22,
   "metadata": {},
   "outputs": [],
   "source": [
    "#dataset.to_csv(r'C:\\Users\\heylu\\Documents\\github\\Sentimental Analysis -  A Study Case About Mental Health in Pandemic Times\\data\\processed\\' + data + r'.csv')"
   ]
  },
  {
   "cell_type": "code",
   "execution_count": 23,
   "metadata": {},
   "outputs": [],
   "source": [
    "data = cleaning_data(dataset)"
   ]
  },
  {
   "cell_type": "code",
   "execution_count": 55,
   "metadata": {},
   "outputs": [],
   "source": [
    "data['hashtags'] = [\", \".join(y for y in re.findall('\\B#\\w\\w+', x)) for x in data['tweet']]"
   ]
  },
  {
   "cell_type": "code",
   "execution_count": 57,
   "metadata": {},
   "outputs": [
    {
     "output_type": "execute_result",
     "data": {
      "text/plain": [
       "                                                        tweet  \\\n",
       "date                                                            \n",
       "2021-04-29  #Ansiedade não se resolve com um convite para ...   \n",
       "2021-04-29  Vamos acompanhar de perto esse processo para g...   \n",
       "2021-04-29  A pandemia veio e mexeu primeiro  com a saúde ...   \n",
       "2021-04-29  #saúdemental O Centro de Sáude de #Ordes conta...   \n",
       "2021-04-29  Esse diálogo da @juliette e o @gilnogueiraofc ...   \n",
       "...                                                       ...   \n",
       "2014-03-26  Denuncie o #assédio moral no trabalho. O silên...   \n",
       "2014-03-20  O que eu colocar no meu Portifólio de saúde me...   \n",
       "2014-03-11  Televisão e Facebook, coisas que não fazem fal...   \n",
       "2014-03-10  Fortalecer a #saúdemental e a #saúdeemocional,...   \n",
       "2014-03-06  Tentando terminar os trabalhos de #SaúdeMental...   \n",
       "\n",
       "                                                     hashtags  \n",
       "date                                                           \n",
       "2021-04-29  #Ansiedade, #ansiedadenaoéfrescura, #Terapia, ...  \n",
       "2021-04-29  #SiriNaCâmara, #CâmaraMunicipal, #RiodeJaneiro...  \n",
       "2021-04-29  #saúde, #COVID19, #SaúdeMental, #mentalhealth,...  \n",
       "2021-04-29  #saúdemental, #Ordes, #Frades, #Mesía, #Tordoi...  \n",
       "2021-04-29                                 #saúdemental, #bbb  \n",
       "...                                                       ...  \n",
       "2014-03-26  #assédio, #higieneesegurancadotrabalho, #meioa...  \n",
       "2014-03-20                           #AcabaLogo, #saúdeMental  \n",
       "2014-03-11                                       #saúdemental  \n",
       "2014-03-10            #saúdemental, #saúdeemocional, #fitness  \n",
       "2014-03-06      #SaúdeMental, #TécnicoEmEnfermagem, #BomDiiia  \n",
       "\n",
       "[3328 rows x 2 columns]"
      ],
      "text/html": "<div>\n<style scoped>\n    .dataframe tbody tr th:only-of-type {\n        vertical-align: middle;\n    }\n\n    .dataframe tbody tr th {\n        vertical-align: top;\n    }\n\n    .dataframe thead th {\n        text-align: right;\n    }\n</style>\n<table border=\"1\" class=\"dataframe\">\n  <thead>\n    <tr style=\"text-align: right;\">\n      <th></th>\n      <th>tweet</th>\n      <th>hashtags</th>\n    </tr>\n    <tr>\n      <th>date</th>\n      <th></th>\n      <th></th>\n    </tr>\n  </thead>\n  <tbody>\n    <tr>\n      <th>2021-04-29</th>\n      <td>#Ansiedade não se resolve com um convite para ...</td>\n      <td>#Ansiedade, #ansiedadenaoéfrescura, #Terapia, ...</td>\n    </tr>\n    <tr>\n      <th>2021-04-29</th>\n      <td>Vamos acompanhar de perto esse processo para g...</td>\n      <td>#SiriNaCâmara, #CâmaraMunicipal, #RiodeJaneiro...</td>\n    </tr>\n    <tr>\n      <th>2021-04-29</th>\n      <td>A pandemia veio e mexeu primeiro  com a saúde ...</td>\n      <td>#saúde, #COVID19, #SaúdeMental, #mentalhealth,...</td>\n    </tr>\n    <tr>\n      <th>2021-04-29</th>\n      <td>#saúdemental O Centro de Sáude de #Ordes conta...</td>\n      <td>#saúdemental, #Ordes, #Frades, #Mesía, #Tordoi...</td>\n    </tr>\n    <tr>\n      <th>2021-04-29</th>\n      <td>Esse diálogo da @juliette e o @gilnogueiraofc ...</td>\n      <td>#saúdemental, #bbb</td>\n    </tr>\n    <tr>\n      <th>...</th>\n      <td>...</td>\n      <td>...</td>\n    </tr>\n    <tr>\n      <th>2014-03-26</th>\n      <td>Denuncie o #assédio moral no trabalho. O silên...</td>\n      <td>#assédio, #higieneesegurancadotrabalho, #meioa...</td>\n    </tr>\n    <tr>\n      <th>2014-03-20</th>\n      <td>O que eu colocar no meu Portifólio de saúde me...</td>\n      <td>#AcabaLogo, #saúdeMental</td>\n    </tr>\n    <tr>\n      <th>2014-03-11</th>\n      <td>Televisão e Facebook, coisas que não fazem fal...</td>\n      <td>#saúdemental</td>\n    </tr>\n    <tr>\n      <th>2014-03-10</th>\n      <td>Fortalecer a #saúdemental e a #saúdeemocional,...</td>\n      <td>#saúdemental, #saúdeemocional, #fitness</td>\n    </tr>\n    <tr>\n      <th>2014-03-06</th>\n      <td>Tentando terminar os trabalhos de #SaúdeMental...</td>\n      <td>#SaúdeMental, #TécnicoEmEnfermagem, #BomDiiia</td>\n    </tr>\n  </tbody>\n</table>\n<p>3328 rows × 2 columns</p>\n</div>"
     },
     "metadata": {},
     "execution_count": 57
    }
   ],
   "source": [
    "data"
   ]
  },
  {
   "cell_type": "code",
   "execution_count": null,
   "metadata": {},
   "outputs": [],
   "source": []
  }
 ],
 "metadata": {
  "kernelspec": {
   "name": "python3613jvsc74a57bd0ccbe1d209069a6934c6baf0d50ddbcb072d245e139d3821e0ac48cf43eca06e5",
   "display_name": "Python 3.6.13 64-bit ('twint': conda)"
  },
  "language_info": {
   "codemirror_mode": {
    "name": "ipython",
    "version": 3
   },
   "file_extension": ".py",
   "mimetype": "text/x-python",
   "name": "python",
   "nbconvert_exporter": "python",
   "pygments_lexer": "ipython3",
   "version": "3.6.13"
  },
  "metadata": {
   "interpreter": {
    "hash": "ccbe1d209069a6934c6baf0d50ddbcb072d245e139d3821e0ac48cf43eca06e5"
   }
  }
 },
 "nbformat": 4,
 "nbformat_minor": 2
}