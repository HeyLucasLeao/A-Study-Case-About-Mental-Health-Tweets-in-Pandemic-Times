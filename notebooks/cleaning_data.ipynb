{
 "cells": [
  {
   "cell_type": "code",
   "execution_count": 89,
   "metadata": {},
   "outputs": [],
   "source": [
    "import pandas as pd\n",
    "import plotly.express as px\n",
    "from unidecode import unidecode\n",
    "import re\n",
    "import numpy as np\n",
    "from os import listdir\n",
    "from collections import Counter"
   ]
  },
  {
   "cell_type": "code",
   "execution_count": 90,
   "metadata": {},
   "outputs": [],
   "source": [
    "PATH_RAW = r'C:\\Users\\heylu\\Documents\\github\\Sentimental Analysis -  A Study Case About Mental Health in Pandemic Times\\data\\raw'\n",
    "PATH_PROCESSED = r'C:\\Users\\heylu\\Documents\\github\\Sentimental Analysis -  A Study Case About Mental Health in Pandemic Times\\data\\processed'"
   ]
  },
  {
   "cell_type": "code",
   "execution_count": 91,
   "metadata": {},
   "outputs": [],
   "source": [
    "def cleaning_tweets(data, language='pt'):\n",
    "    dataset = data.copy()\n",
    "    dataset = dataset[dataset['language'] == language]\n",
    "    dataset.drop_duplicates('tweet', inplace=True)\n",
    "    dataset.drop_duplicates('username', inplace=True)\n",
    "    dataset['hashtags'] = [\", \".join(y for y in re.findall('\\B#\\w\\w+', x)) for x in dataset['tweet']]\n",
    "    dataset = dataset[['date','tweet','hashtags']]\n",
    "    dataset\n",
    "\n",
    "    return dataset"
   ]
  },
  {
   "cell_type": "code",
   "execution_count": 92,
   "metadata": {},
   "outputs": [],
   "source": [
    "for f in listdir(PATH_RAW):\n",
    "    dataset = pd.read_csv(PATH_RAW + \"\\\\\" + f)\n",
    "    dataset = cleaning_tweets(dataset)\n",
    "    dataset.to_csv(PATH_PROCESSED + \"\\\\\" + f)"
   ]
  },
  {
   "cell_type": "code",
   "execution_count": 93,
   "metadata": {},
   "outputs": [],
   "source": [
    "dataset = pd.DataFrame()\n",
    "\n",
    "for f in listdir(PATH_PROCESSED):\n",
    "    df = pd.read_csv(PATH_PROCESSED + \"\\\\\" + f)\n",
    "    dataset = pd.concat([dataset, df])\n",
    "    \n",
    "dataset = dataset.drop_duplicates('tweet')"
   ]
  },
  {
   "cell_type": "code",
   "execution_count": 94,
   "metadata": {},
   "outputs": [],
   "source": [
    "dataset['hashtags'] = dataset['hashtags'].fillna('#nan')\n",
    "dataset['hashtags'] = dataset['hashtags'].apply(lambda x: re.sub(\"#\", '', x))\n",
    "dataset['hashtags'] = dataset['hashtags'].apply(lambda x: x.lower())\n",
    "dataset['hashtags'] = [unidecode(x) for x in dataset['hashtags']]"
   ]
  },
  {
   "cell_type": "code",
   "execution_count": 95,
   "metadata": {},
   "outputs": [],
   "source": [
    "dataset['hashtags'] = [x.split(',') for x in dataset['hashtags']]"
   ]
  },
  {
   "cell_type": "code",
   "execution_count": 96,
   "metadata": {},
   "outputs": [],
   "source": [
    "arr = []\n",
    "for x in dataset['hashtags']:\n",
    "    arr.extend(x)"
   ]
  },
  {
   "cell_type": "code",
   "execution_count": 97,
   "metadata": {},
   "outputs": [],
   "source": [
    "arr = pd.DataFrame(arr)"
   ]
  },
  {
   "cell_type": "code",
   "execution_count": 98,
   "metadata": {},
   "outputs": [
    {
     "output_type": "execute_result",
     "data": {
      "text/plain": [
       "setembroamarelo          15584\n",
       "nan                       2904\n",
       " setembroamarelo          2131\n",
       " saudemental              1727\n",
       "saudemental               1686\n",
       "sessaodeterapia            568\n",
       "eumeimporto                525\n",
       "suicidiomateessaideia      524\n",
       "suavidaimporta             499\n",
       "depressaonaoefrescura      444\n",
       "dtype: int64"
      ]
     },
     "metadata": {},
     "execution_count": 98
    }
   ],
   "source": [
    "arr.value_counts().head(10)"
   ]
  },
  {
   "cell_type": "code",
   "execution_count": 99,
   "metadata": {},
   "outputs": [],
   "source": [
    "dataset['tweet'] = dataset['tweet'].apply(lambda x: x.lower())\n",
    "dataset['tweet'] = [unidecode(x) for x in dataset['tweet']]\n",
    "dataset['tweet'] = [re.sub('\\B#\\w\\w+', \"\",x) for x in dataset['tweet']]\n",
    "dataset['tweet'] = [re.sub('\\B@\\w\\w+', \"\",x) for x in dataset['tweet']]"
   ]
  },
  {
   "cell_type": "code",
   "execution_count": 104,
   "metadata": {},
   "outputs": [],
   "source": [
    "dataset = dataset[['date', 'tweet']].reset_index().drop(columns='index')"
   ]
  },
  {
   "cell_type": "code",
   "execution_count": 108,
   "metadata": {},
   "outputs": [],
   "source": [
    "dataset = dataset.sort_values('date').set_index('date')"
   ]
  },
  {
   "cell_type": "code",
   "execution_count": 115,
   "metadata": {},
   "outputs": [],
   "source": [
    "dataset.drop_duplicates('tweet', inplace=True)"
   ]
  },
  {
   "cell_type": "code",
   "execution_count": 117,
   "metadata": {},
   "outputs": [],
   "source": [
    "dataset.to_csv(r'C:\\Users\\heylu\\Documents\\github\\Sentimental Analysis -  A Study Case About Mental Health in Pandemic Times\\data\\cleaned\\data.csv')"
   ]
  }
 ],
 "metadata": {
  "kernelspec": {
   "name": "python3613jvsc74a57bd0ccbe1d209069a6934c6baf0d50ddbcb072d245e139d3821e0ac48cf43eca06e5",
   "display_name": "Python 3.6.13 64-bit ('twint': conda)"
  },
  "language_info": {
   "codemirror_mode": {
    "name": "ipython",
    "version": 3
   },
   "file_extension": ".py",
   "mimetype": "text/x-python",
   "name": "python",
   "nbconvert_exporter": "python",
   "pygments_lexer": "ipython3",
   "version": "3.6.13"
  },
  "metadata": {
   "interpreter": {
    "hash": "ccbe1d209069a6934c6baf0d50ddbcb072d245e139d3821e0ac48cf43eca06e5"
   }
  }
 },
 "nbformat": 4,
 "nbformat_minor": 2
}