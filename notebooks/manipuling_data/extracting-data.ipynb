{
 "metadata": {
  "language_info": {
   "codemirror_mode": {
    "name": "ipython",
    "version": 3
   },
   "file_extension": ".py",
   "mimetype": "text/x-python",
   "name": "python",
   "nbconvert_exporter": "python",
   "pygments_lexer": "ipython3",
   "version": "3.6.13"
  },
  "orig_nbformat": 2,
  "kernelspec": {
   "name": "python3613jvsc74a57bd0ccbe1d209069a6934c6baf0d50ddbcb072d245e139d3821e0ac48cf43eca06e5",
   "display_name": "Python 3.6.13 64-bit ('twint': conda)"
  }
 },
 "nbformat": 4,
 "nbformat_minor": 2,
 "cells": [
  {
   "source": [
    "# DEPRECATED"
   ],
   "cell_type": "markdown",
   "metadata": {}
  },
  {
   "cell_type": "code",
   "execution_count": 198,
   "metadata": {},
   "outputs": [],
   "source": [
    "import pandas as pd\n",
    "from os import listdir"
   ]
  },
  {
   "cell_type": "code",
   "execution_count": 199,
   "metadata": {},
   "outputs": [],
   "source": [
    "PATH = r'C:\\Users\\heylu\\Documents\\github\\A Study Case About Mental Health Tweets in Pandemic Times\\data\\1. raw\\ansiedade 2021'"
   ]
  },
  {
   "cell_type": "code",
   "execution_count": 207,
   "metadata": {},
   "outputs": [],
   "source": [
    "for f in listdir(PATH):\n",
    "    df = pd.read_csv(PATH + \"\\\\\" + f)\n",
    "    df = df.sample(500)\n",
    "    df.to_csv(PATH + '\\\\' + 'samples.csv', mode='a', header=False)"
   ]
  },
  {
   "cell_type": "code",
   "execution_count": 208,
   "metadata": {},
   "outputs": [],
   "source": [
    "f = listdir(PATH)[0]"
   ]
  },
  {
   "cell_type": "code",
   "execution_count": 209,
   "metadata": {},
   "outputs": [],
   "source": [
    "df = pd.read_csv(PATH + \"\\\\\" + f)"
   ]
  },
  {
   "cell_type": "code",
   "execution_count": 210,
   "metadata": {},
   "outputs": [
    {
     "output_type": "execute_result",
     "data": {
      "text/plain": [
       "        Unnamed: 0              user_id      conversation_id        date  \\\n",
       "0          1460831  1329196090198024198  1355415198740443136  2021-01-31   \n",
       "1          1460832   779403430913773569  1353479075071930368  2021-01-31   \n",
       "2          1460834  1200396134218379264  1356087301080834048  2021-01-31   \n",
       "3          1460835  1167873265420947456  1356089803729739778  2021-01-31   \n",
       "4          1460836           2205131648  1356089795013963780  2021-01-31   \n",
       "...            ...                  ...                  ...         ...   \n",
       "429536     1908617  1149440249896022017  1344855318732427265  2021-01-01   \n",
       "429537     1908618  1301709747024953345  1344661033651236869  2021-01-01   \n",
       "429538     1908619  1061785087887491072  1344855935500627968  2021-01-01   \n",
       "429539     1908620  1269722883246391296  1344855926512222208  2021-01-01   \n",
       "429540     1908621  1256390878278692873  1344855907927289856  2021-01-01   \n",
       "\n",
       "            time                                              tweet  \n",
       "0       23:59:51  @anniebutterfly7 @backtoana_ ansiedade não dei...  \n",
       "1       23:59:51  @SpookyZor sei como é, eu q sou super comunica...  \n",
       "2       23:59:46           @haruuneis também aaa ai mds q ansiedade  \n",
       "3       23:59:38  ta cada dia mais difícil conviver com essa ans...  \n",
       "4       23:59:36  minha meta agora é ser livre de preocupações, ...  \n",
       "...          ...                                                ...  \n",
       "429536  00:00:47  @archivetwilight Apaga tenho depressão, ansied...  \n",
       "429537  00:00:45  @_Ninnuj_ tô com medo de voltar pra escola não...  \n",
       "429538  00:00:15  feliz ano novo só pra quem passou tendo crise ...  \n",
       "429539  00:00:13   1h da manhã e a crise de ansiedade batendo forte  \n",
       "429540  00:00:09  Eu tô 50% animada mexendo o pé sem parar de an...  \n",
       "\n",
       "[429541 rows x 6 columns]"
      ],
      "text/html": "<div>\n<style scoped>\n    .dataframe tbody tr th:only-of-type {\n        vertical-align: middle;\n    }\n\n    .dataframe tbody tr th {\n        vertical-align: top;\n    }\n\n    .dataframe thead th {\n        text-align: right;\n    }\n</style>\n<table border=\"1\" class=\"dataframe\">\n  <thead>\n    <tr style=\"text-align: right;\">\n      <th></th>\n      <th>Unnamed: 0</th>\n      <th>user_id</th>\n      <th>conversation_id</th>\n      <th>date</th>\n      <th>time</th>\n      <th>tweet</th>\n    </tr>\n  </thead>\n  <tbody>\n    <tr>\n      <th>0</th>\n      <td>1460831</td>\n      <td>1329196090198024198</td>\n      <td>1355415198740443136</td>\n      <td>2021-01-31</td>\n      <td>23:59:51</td>\n      <td>@anniebutterfly7 @backtoana_ ansiedade não dei...</td>\n    </tr>\n    <tr>\n      <th>1</th>\n      <td>1460832</td>\n      <td>779403430913773569</td>\n      <td>1353479075071930368</td>\n      <td>2021-01-31</td>\n      <td>23:59:51</td>\n      <td>@SpookyZor sei como é, eu q sou super comunica...</td>\n    </tr>\n    <tr>\n      <th>2</th>\n      <td>1460834</td>\n      <td>1200396134218379264</td>\n      <td>1356087301080834048</td>\n      <td>2021-01-31</td>\n      <td>23:59:46</td>\n      <td>@haruuneis também aaa ai mds q ansiedade</td>\n    </tr>\n    <tr>\n      <th>3</th>\n      <td>1460835</td>\n      <td>1167873265420947456</td>\n      <td>1356089803729739778</td>\n      <td>2021-01-31</td>\n      <td>23:59:38</td>\n      <td>ta cada dia mais difícil conviver com essa ans...</td>\n    </tr>\n    <tr>\n      <th>4</th>\n      <td>1460836</td>\n      <td>2205131648</td>\n      <td>1356089795013963780</td>\n      <td>2021-01-31</td>\n      <td>23:59:36</td>\n      <td>minha meta agora é ser livre de preocupações, ...</td>\n    </tr>\n    <tr>\n      <th>...</th>\n      <td>...</td>\n      <td>...</td>\n      <td>...</td>\n      <td>...</td>\n      <td>...</td>\n      <td>...</td>\n    </tr>\n    <tr>\n      <th>429536</th>\n      <td>1908617</td>\n      <td>1149440249896022017</td>\n      <td>1344855318732427265</td>\n      <td>2021-01-01</td>\n      <td>00:00:47</td>\n      <td>@archivetwilight Apaga tenho depressão, ansied...</td>\n    </tr>\n    <tr>\n      <th>429537</th>\n      <td>1908618</td>\n      <td>1301709747024953345</td>\n      <td>1344661033651236869</td>\n      <td>2021-01-01</td>\n      <td>00:00:45</td>\n      <td>@_Ninnuj_ tô com medo de voltar pra escola não...</td>\n    </tr>\n    <tr>\n      <th>429538</th>\n      <td>1908619</td>\n      <td>1061785087887491072</td>\n      <td>1344855935500627968</td>\n      <td>2021-01-01</td>\n      <td>00:00:15</td>\n      <td>feliz ano novo só pra quem passou tendo crise ...</td>\n    </tr>\n    <tr>\n      <th>429539</th>\n      <td>1908620</td>\n      <td>1269722883246391296</td>\n      <td>1344855926512222208</td>\n      <td>2021-01-01</td>\n      <td>00:00:13</td>\n      <td>1h da manhã e a crise de ansiedade batendo forte</td>\n    </tr>\n    <tr>\n      <th>429540</th>\n      <td>1908621</td>\n      <td>1256390878278692873</td>\n      <td>1344855907927289856</td>\n      <td>2021-01-01</td>\n      <td>00:00:09</td>\n      <td>Eu tô 50% animada mexendo o pé sem parar de an...</td>\n    </tr>\n  </tbody>\n</table>\n<p>429541 rows × 6 columns</p>\n</div>"
     },
     "metadata": {},
     "execution_count": 210
    }
   ],
   "source": [
    "df"
   ]
  },
  {
   "cell_type": "code",
   "execution_count": null,
   "metadata": {},
   "outputs": [],
   "source": []
  }
 ]
}