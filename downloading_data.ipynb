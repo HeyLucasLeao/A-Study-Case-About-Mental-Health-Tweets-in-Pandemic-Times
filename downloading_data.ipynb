{
 "cells": [
  {
   "cell_type": "code",
   "execution_count": 1,
   "metadata": {},
   "outputs": [],
   "source": [
    "import pandas as pd"
   ]
  },
  {
   "cell_type": "code",
   "execution_count": 34,
   "metadata": {},
   "outputs": [],
   "source": [
    "dataset = pd.read_csv(r'C:\\Users\\heylu\\Documents\\github\\Sentimental Analysis -  A Study Case About Mental Health in Pandemic Times\\data\\raw\\saudemental.csv')"
   ]
  },
  {
   "cell_type": "code",
   "execution_count": 35,
   "metadata": {},
   "outputs": [],
   "source": [
    "dataset.drop(columns=[\n",
    "'conversation_id', \n",
    "'timezone', \n",
    "'time', \n",
    "'place', \n",
    "'mentions', \n",
    "'geo', \n",
    "'source', \n",
    "'user_rt_id', \n",
    "'user_rt', \n",
    "'trans_src',\n",
    "'created_at',\n",
    "'user_id',\n",
    "'name',\n",
    "'video',\n",
    "'thumbnail',\n",
    "'translate',\n",
    "'trans_dest',\n",
    "'reply_to',\n",
    "'source',\n",
    "'near',\n",
    "'quote_url',\n",
    "'retweet',\n",
    "'cashtags',\n",
    "'hashtags',\n",
    "'retweets_count',\n",
    "'replies_count',\n",
    "'photos',\n",
    "'urls',\n",
    "'retweet_id',\n",
    "'retweet_date',\n",
    "'link',\n",
    "'likes_count'],\n",
    "inplace=True)"
   ]
  },
  {
   "cell_type": "code",
   "execution_count": 36,
   "metadata": {},
   "outputs": [],
   "source": [
    "dataset = dataset[dataset['language'] == 'pt']\n",
    "dataset.drop_duplicates('tweet', inplace=True)\n",
    "dataset.drop_duplicates('username', inplace=True)\n",
    "dataset.drop(columns=['language', 'id'], inplace=True)"
   ]
  },
  {
   "cell_type": "code",
   "execution_count": 42,
   "metadata": {},
   "outputs": [],
   "source": [
    "dataset.to_csv(r'C:\\Users\\heylu\\Documents\\github\\Sentimental Analysis -  A Study Case About Mental Health in Pandemic Times\\data\\processed\\saudemental.csv')"
   ]
  },
  {
   "cell_type": "code",
   "execution_count": 38,
   "metadata": {},
   "outputs": [],
   "source": []
  },
  {
   "cell_type": "code",
   "execution_count": 40,
   "metadata": {},
   "outputs": [],
   "source": []
  },
  {
   "cell_type": "code",
   "execution_count": null,
   "metadata": {},
   "outputs": [],
   "source": []
  }
 ],
 "metadata": {
  "kernelspec": {
   "name": "python3613jvsc74a57bd0ccbe1d209069a6934c6baf0d50ddbcb072d245e139d3821e0ac48cf43eca06e5",
   "display_name": "Python 3.6.13 64-bit ('twint': conda)"
  },
  "language_info": {
   "codemirror_mode": {
    "name": "ipython",
    "version": 3
   },
   "file_extension": ".py",
   "mimetype": "text/x-python",
   "name": "python",
   "nbconvert_exporter": "python",
   "pygments_lexer": "ipython3",
   "version": "3.6.13"
  },
  "metadata": {
   "interpreter": {
    "hash": "ccbe1d209069a6934c6baf0d50ddbcb072d245e139d3821e0ac48cf43eca06e5"
   }
  }
 },
 "nbformat": 4,
 "nbformat_minor": 2
}